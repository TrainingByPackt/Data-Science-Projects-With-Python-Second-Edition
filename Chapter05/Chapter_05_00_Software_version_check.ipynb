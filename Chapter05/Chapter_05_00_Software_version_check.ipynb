{
 "cells": [
  {
   "cell_type": "code",
   "execution_count": 1,
   "metadata": {},
   "outputs": [
    {
     "name": "stdout",
     "output_type": "stream",
     "text": [
      "The Python version is 3.8.2 (default, Mar 26 2020, 10:43:30) \n",
      "[Clang 4.0.1 (tags/RELEASE_401/final)].\n",
      "\n",
      "The Numpy version is 1.19.2.\n",
      "\n",
      "The Pandas version is 1.2.1.\n",
      "\n",
      "The Matplotlib version is 3.3.2.\n",
      "\n",
      "The Graphviz version is 0.15.\n",
      "\n",
      "The Scikit-Learn version is 0.23.2.\n",
      "\n"
     ]
    }
   ],
   "source": [
    "# Load packages and check versions\n",
    "import sys\n",
    "import numpy as np\n",
    "import pandas as pd\n",
    "import matplotlib as mpl\n",
    "import graphviz\n",
    "import sklearn\n",
    "\n",
    "print('The Python version is {}.\\n'.format(sys.version))\n",
    "print('The Numpy version is {}.\\n'.format(np.__version__))\n",
    "print('The Pandas version is {}.\\n'.format(pd.__version__))\n",
    "print('The Matplotlib version is {}.\\n'.format(mpl.__version__))\n",
    "print('The Graphviz version is {}.\\n'.format(graphviz.__version__))\n",
    "print('The Scikit-Learn version is {}.\\n'.format(sklearn.__version__))\n",
    "# The Python version is 3.8.2 (default, Mar 26 2020, 10:43:30) \n",
    "# [Clang 4.0.1 (tags/RELEASE_401/final)].\n",
    "\n",
    "# The Numpy version is 1.19.2.\n",
    "\n",
    "# The Pandas version is 1.2.1.\n",
    "\n",
    "# The Matplotlib version is 3.3.2.\n",
    "\n",
    "# The Scikit-Learn version is 0.23.2."
   ]
  },
  {
   "cell_type": "code",
   "execution_count": null,
   "metadata": {},
   "outputs": [],
   "source": []
  }
 ],
 "metadata": {
  "kernelspec": {
   "display_name": "Python 3",
   "language": "python",
   "name": "python3"
  },
  "language_info": {
   "codemirror_mode": {
    "name": "ipython",
    "version": 3
   },
   "file_extension": ".py",
   "mimetype": "text/x-python",
   "name": "python",
   "nbconvert_exporter": "python",
   "pygments_lexer": "ipython3",
   "version": "3.8.2"
  }
 },
 "nbformat": 4,
 "nbformat_minor": 2
}
