{
 "cells": [
  {
   "cell_type": "code",
   "execution_count": 2,
   "metadata": {},
   "outputs": [
    {
     "name": "stdout",
     "output_type": "stream",
     "text": [
      "The Python version is 3.8.3 (default, Jul  2 2020, 11:26:31) \n",
      "[Clang 10.0.0 ].\n",
      "\n",
      "The Numpy version is 1.18.5.\n",
      "\n",
      "The Pandas version is 1.0.5.\n",
      "\n",
      "The Matplotlib version is 3.2.2.\n",
      "\n",
      "The Seaborn version is 0.10.1.\n",
      "\n",
      "The Scikit-Learn version is 0.23.1.\n",
      "\n"
     ]
    }
   ],
   "source": [
    "# Load packages and check versions\n",
    "import sys\n",
    "import numpy as np\n",
    "import pandas as pd\n",
    "import matplotlib as mpl\n",
    "import seaborn as sns\n",
    "import sklearn\n",
    "\n",
    "print('The Python version is {}.\\n'.format(sys.version))\n",
    "print('The Numpy version is {}.\\n'.format(np.__version__))\n",
    "print('The Pandas version is {}.\\n'.format(pd.__version__))\n",
    "print('The Matplotlib version is {}.\\n'.format(mpl.__version__))\n",
    "print('The Seaborn version is {}.\\n'.format(sns.__version__))\n",
    "print('The Scikit-Learn version is {}.\\n'.format(sklearn.__version__))\n",
    "# The Python version is 3.8.3 (default, Jul  2 2020, 11:26:31) \n",
    "# [Clang 10.0.0 ].\n",
    "\n",
    "# The Numpy version is 1.18.5.\n",
    "\n",
    "# The Pandas version is 1.0.5.\n",
    "\n",
    "# The Matplotlib version is 3.2.2.\n",
    "\n",
    "# The Seaborn version is 0.10.1.\n",
    "\n",
    "# The Scikit-Learn version is 0.23.1."
   ]
  },
  {
   "cell_type": "code",
   "execution_count": null,
   "metadata": {},
   "outputs": [],
   "source": []
  }
 ],
 "metadata": {
  "kernelspec": {
   "display_name": "Python 3",
   "language": "python",
   "name": "python3"
  },
  "language_info": {
   "codemirror_mode": {
    "name": "ipython",
    "version": 3
   },
   "file_extension": ".py",
   "mimetype": "text/x-python",
   "name": "python",
   "nbconvert_exporter": "python",
   "pygments_lexer": "ipython3",
   "version": "3.8.3"
  }
 },
 "nbformat": 4,
 "nbformat_minor": 2
}
